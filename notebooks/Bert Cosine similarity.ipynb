{
 "cells": [
  {
   "cell_type": "code",
   "execution_count": 1,
   "id": "a722b583-b671-4c57-9e27-1b09e300205b",
   "metadata": {},
   "outputs": [
    {
     "name": "stderr",
     "output_type": "stream",
     "text": [
      "C:\\Users\\punit\\anaconda3\\envs\\hotel\\Lib\\site-packages\\tqdm\\auto.py:21: TqdmWarning: IProgress not found. Please update jupyter and ipywidgets. See https://ipywidgets.readthedocs.io/en/stable/user_install.html\n",
      "  from .autonotebook import tqdm as notebook_tqdm\n"
     ]
    }
   ],
   "source": [
    "import pandas as pd\n",
    "import torch\n",
    "from transformers import BertTokenizer, BertModel\n",
    "from sklearn.metrics.pairwise import cosine_similarity\n",
    "import re\n",
    "import matplotlib.pyplot as plt\n",
    "import warnings\n",
    "\n",
    "warnings.filterwarnings(\"ignore\")"
   ]
  },
  {
   "cell_type": "code",
   "execution_count": 2,
   "id": "33bc99d6-c5c1-4fa2-9106-929223836fe5",
   "metadata": {},
   "outputs": [],
   "source": [
    "# Function for text preprocessing\n",
    "def preprocess_text(text):\n",
    "    if pd.isna(text):\n",
    "        return \"\"\n",
    "    # Convert to lowercase\n",
    "    text = str(text).lower()\n",
    "    # Remove punctuation\n",
    "    text = re.sub(r'[^\\w\\s]', '', text)\n",
    "    return text"
   ]
  },
  {
   "cell_type": "code",
   "execution_count": 3,
   "id": "89b8f82c-d635-465b-849d-8c3c096541f9",
   "metadata": {},
   "outputs": [],
   "source": [
    "\n",
    "# Load the Excel files into pandas DataFrames\n",
    "df_booking = pd.read_excel(\"V1BookingHotel_-_TH_SG.xlsx\")\n",
    "df_ai_reviews = pd.read_excel(\"reviewsAIV1.xlsx\")\n",
    "\n"
   ]
  },
  {
   "cell_type": "code",
   "execution_count": 4,
   "id": "272c3100-9850-4c12-b0fd-4a400ff29099",
   "metadata": {},
   "outputs": [],
   "source": [
    "# Preprocess text data in both datasets\n",
    "df_booking[\"Text\"] = df_booking[\"Text\"].apply(preprocess_text)\n",
    "df_ai_reviews[\"Reviews\"] = df_ai_reviews[\"Reviews\"].apply(preprocess_text)"
   ]
  },
  {
   "cell_type": "code",
   "execution_count": 5,
   "id": "577f71b9-9859-44cc-bfea-a4a4d8637c32",
   "metadata": {},
   "outputs": [],
   "source": [
    "# Initialize BERT tokenizer and model\n",
    "tokenizer = BertTokenizer.from_pretrained(\"bert-base-uncased\")\n",
    "model = BertModel.from_pretrained(\"bert-base-uncased\")\n",
    "\n",
    "# Preprocess and tokenize AI-generated reviews\n",
    "ai_reviews = df_ai_reviews[\"Reviews\"].tolist()\n",
    "ai_reviews_tokenized = tokenizer(ai_reviews, padding=True, truncation=True, return_tensors=\"pt\")\n",
    "\n",
    "# Obtain BERT embeddings for AI-generated reviews\n",
    "with torch.no_grad():\n",
    "    ai_reviews_outputs = model(**ai_reviews_tokenized)\n",
    "    ai_reviews_embeddings = ai_reviews_outputs.last_hidden_state.mean(dim=1)\n",
    "\n"
   ]
  },
  {
   "cell_type": "code",
   "execution_count": 6,
   "id": "2a5a494d-5a86-41e4-affe-98b770a6cd6a",
   "metadata": {},
   "outputs": [],
   "source": [
    "# Function to calculate contextual similarity scores\n",
    "def calculate_similarity_scores(text):\n",
    "    if not isinstance(text, str):\n",
    "        text = str(text)\n",
    "    # Tokenize and encode the input text\n",
    "    text_tokenized = tokenizer(text, padding=True, truncation=True, return_tensors=\"pt\")\n",
    "    \n",
    "    # Obtain BERT embeddings for the input text\n",
    "    with torch.no_grad():\n",
    "        text_outputs = model(**text_tokenized)\n",
    "        text_embedding = text_outputs.last_hidden_state.mean(dim=1)\n",
    "    \n",
    "    # Calculate cosine similarity between the input text and AI-generated reviews\n",
    "    similarity_scores = cosine_similarity(text_embedding, ai_reviews_embeddings)\n",
    "    \n",
    "    return similarity_scores"
   ]
  },
  {
   "cell_type": "code",
   "execution_count": 7,
   "id": "9db201a2-b881-4b16-b3f9-39173dcd769d",
   "metadata": {},
   "outputs": [],
   "source": [
    "\n",
    "# Iterate through each review in df_booking and calculate similarity scores\n",
    "similarity_scores_list = []\n",
    "average_similarity_scores = []\n",
    "for idx, row in df_booking.iterrows():\n",
    "    text = row[\"Text\"]\n",
    "    similarity_scores = calculate_similarity_scores(text)\n",
    "    similarity_scores_list.append(similarity_scores)\n",
    "    average_similarity_score = similarity_scores.mean()\n",
    "    average_similarity_scores.append(average_similarity_score)\n"
   ]
  },
  {
   "cell_type": "code",
   "execution_count": 8,
   "id": "bfd62327-d780-4466-9e9e-edfce47cf7d5",
   "metadata": {},
   "outputs": [],
   "source": [
    "# Add similarity scores to df_booking\n",
    "#df_booking[\"Similarity Scores\"] = similarity_scores_list"
   ]
  },
  {
   "cell_type": "code",
   "execution_count": 9,
   "id": "978194ed-16dc-4c84-97db-a32926360ef2",
   "metadata": {},
   "outputs": [],
   "source": [
    "# Add average similarity scores to df_booking\n",
    "df_booking[\"Average Similarity Score\"] = average_similarity_scores"
   ]
  },
  {
   "cell_type": "code",
   "execution_count": 10,
   "id": "6a92e1c4-e3eb-4687-aac4-7c4456713ab6",
   "metadata": {},
   "outputs": [],
   "source": [
    "# Save the updated DataFrame with similarity scores\n",
    "df_booking.to_excel(\"V1BookingHotel_with_AvgSimilarity_Scores.xlsx\", index=False)"
   ]
  },
  {
   "cell_type": "code",
   "execution_count": null,
   "id": "2784057a-cfb2-4250-866c-ea25060ddc9a",
   "metadata": {},
   "outputs": [],
   "source": []
  }
 ],
 "metadata": {
  "kernelspec": {
   "display_name": "Python 3 (ipykernel)",
   "language": "python",
   "name": "python3"
  },
  "language_info": {
   "codemirror_mode": {
    "name": "ipython",
    "version": 3
   },
   "file_extension": ".py",
   "mimetype": "text/x-python",
   "name": "python",
   "nbconvert_exporter": "python",
   "pygments_lexer": "ipython3",
   "version": "3.12.2"
  }
 },
 "nbformat": 4,
 "nbformat_minor": 5
}
